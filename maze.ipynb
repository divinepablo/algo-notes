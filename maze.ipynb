{
 "cells": [
  {
   "cell_type": "markdown",
   "metadata": {},
   "source": [
    "stole code from stackoverflow \n",
    "\n",
    "<sup>idc dude sue me atp</sup>"
   ]
  },
  {
   "cell_type": "code",
   "execution_count": 3,
   "metadata": {},
   "outputs": [],
   "source": [
    "import matplotlib.pyplot as plt\n",
    "\n",
    "\n",
    "ROW_SIZE, COL_SIZE = [9, 9]\n",
    "\n",
    "maze = []\n",
    "for i in range(0, ROW_SIZE):\n",
    "    row = []\n",
    "    for j in range(0, COL_SIZE):\n",
    "        row.append(1)\n",
    "    maze.append(row)\n",
    "\n",
    "# print(maze)\n",
    "plt.pcolormesh(maze)\n",
    "plt.axes().set_aspect('equal') #set the x and y axes to the same scale\n",
    "plt.xticks([]) # remove the tick marks by setting to an empty list\n",
    "plt.yticks([]) # remove the tick marks by setting to an empty list\n",
    "plt.axes().invert_yaxis() #invert the y-axis so the first row of data is at the top\n",
    "plt.savefig('maze.png')\n",
    "plt.close()"
   ]
  }
 ],
 "metadata": {
  "kernelspec": {
   "display_name": ".venv",
   "language": "python",
   "name": "python3"
  },
  "language_info": {
   "codemirror_mode": {
    "name": "ipython",
    "version": 3
   },
   "file_extension": ".py",
   "mimetype": "text/x-python",
   "name": "python",
   "nbconvert_exporter": "python",
   "pygments_lexer": "ipython3",
   "version": "3.12.1"
  }
 },
 "nbformat": 4,
 "nbformat_minor": 2
}
